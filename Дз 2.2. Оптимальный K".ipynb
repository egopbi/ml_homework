{
  "nbformat": 4,
  "nbformat_minor": 0,
  "metadata": {
    "colab": {
      "provenance": []
    },
    "kernelspec": {
      "name": "python3",
      "display_name": "Python 3"
    },
    "language_info": {
      "name": "python"
    }
  },
  "cells": [
    {
      "cell_type": "markdown",
      "source": [
        "#Задача 2.2. Оптимальный K\n",
        "\n",
        "В этом задании Вам предлагается подобрать оптимальный K из диапазона [1,50] для решения задачи бинарной классификации на примере датасета breast_cancer. Этот датасет можно загрузить из модуля sklearn.datasets\n",
        "\n",
        "Качества оценивается при помощи метрики accuracy при помощи методики кросс-валидации. Об этой методике можно подробнее прочитать [в документации sklearn](https://scikit-learn.org/stable/modules/generated/sklearn.model_selection.cross_val_score.html)\n",
        "\n",
        "Мы предлагаем Вам заполнить недостающие команды в следующем скелете кода и получить оптимальное значение K. В ответе на задание необходимо указать это значение."
      ],
      "metadata": {
        "id": "IHJdGiLaA41g"
      }
    },
    {
      "cell_type": "code",
      "source": [
        "import sklearn\n",
        "import numpy as np\n",
        "from sklearn.metrics import accuracy_score\n",
        "from sklearn.model_selection import cross_val_score\n",
        "from sklearn.neighbors import KNeighborsClassifier\n",
        "random_seed = 4238\n",
        "\n",
        "np.random.seed(random_seed)\n",
        "n_splits = 3\n",
        "\n",
        "from sklearn.datasets import load_breast_cancer\n",
        "all = np.zeros((50, 3))\n",
        "\n",
        "X, y = load_breast_cancer(return_X_y=True)\n",
        "\n",
        "for k in range (1,51):\n",
        "  clf = KNeighborsClassifier(n_neighbors=k, p=2)\n",
        "  score = cross_val_score(clf, X, y, cv=n_splits)\n",
        "  all[k-1, :] = score\n",
        "cv_scores = all.mean (axis=1)\n",
        "print(np.argmax(cv_scores))\n",
        "print(X.shape)\n",
        "print(X)"
      ],
      "metadata": {
        "id": "dAqbxYEsBBnZ",
        "outputId": "7d9417d8-33b0-4570-ecd3-1c07259c4f92",
        "colab": {
          "base_uri": "https://localhost:8080/"
        }
      },
      "execution_count": null,
      "outputs": [
        {
          "output_type": "stream",
          "name": "stdout",
          "text": [
            "10\n",
            "(569, 30)\n",
            "[[1.799e+01 1.038e+01 1.228e+02 ... 2.654e-01 4.601e-01 1.189e-01]\n",
            " [2.057e+01 1.777e+01 1.329e+02 ... 1.860e-01 2.750e-01 8.902e-02]\n",
            " [1.969e+01 2.125e+01 1.300e+02 ... 2.430e-01 3.613e-01 8.758e-02]\n",
            " ...\n",
            " [1.660e+01 2.808e+01 1.083e+02 ... 1.418e-01 2.218e-01 7.820e-02]\n",
            " [2.060e+01 2.933e+01 1.401e+02 ... 2.650e-01 4.087e-01 1.240e-01]\n",
            " [7.760e+00 2.454e+01 4.792e+01 ... 0.000e+00 2.871e-01 7.039e-02]]\n"
          ]
        }
      ]
    },
    {
      "cell_type": "markdown",
      "source": [
        "## Примечания\n",
        "\n",
        "Замечание: обратите внимание, что np.argmax(cv_scores) возвращает ИНДЕКС наибольшего элемента массива. Индексация массивов начинается с нуля\n",
        "\n",
        "В данной задаче мы используем один из стандартных датасетов breast cancer. Доступ к этому датасету мы осуществляем при помощи вызова функции `load_breast_cancer`, аналогично тому, как мы это делали на лекции.\n",
        "\n",
        "Аргумент n_splits, в данной задаче равный 3, это количество разбиений датасета для проведения кроссвалидации. В качестве итоговой метрики возьмите **среднее** значение качества по всем разбиениям при проведении кроссвалидации."
      ],
      "metadata": {
        "id": "fH9lFKAYBFcg"
      }
    },
    {
      "cell_type": "code",
      "source": [
        "from sklearn.svm import SVC\n",
        "from sklearn.preprocessing import StandardScaler\n",
        "from sklearn.datasets import make_classification\n",
        "from sklearn.model_selection import train_test_split\n",
        "from sklearn.pipeline import Pipeline\n",
        "X, y = make_classification(random_state=0)\n",
        "X_train, X_test, y_train, y_test = train_test_split(X, y,\n",
        "                                                    random_state=0)\n",
        "pipe = Pipeline([('scaler', StandardScaler()), ('svc', SVC())])\n",
        "# The pipeline can be used as any other estimator\n",
        "# and avoids leaking the test set into the train set\n",
        "pipe.fit(X_train, y_train)\n",
        "\n",
        "print(pipe.score(X_test, y_test))\n",
        "print(pipe, type(pipe))"
      ],
      "metadata": {
        "id": "2mZHYKS2BLhr",
        "outputId": "ebbd1bca-9b62-438d-c84b-f49d2dd76e5c",
        "colab": {
          "base_uri": "https://localhost:8080/"
        }
      },
      "execution_count": null,
      "outputs": [
        {
          "output_type": "stream",
          "name": "stdout",
          "text": [
            "0.88\n",
            "Pipeline(steps=[('scaler', StandardScaler()), ('svc', SVC())]) <class 'sklearn.pipeline.Pipeline'>\n"
          ]
        }
      ]
    }
  ]
}