{
  "nbformat": 4,
  "nbformat_minor": 0,
  "metadata": {
    "colab": {
      "provenance": []
    },
    "kernelspec": {
      "name": "python3",
      "display_name": "Python 3"
    },
    "language_info": {
      "name": "python"
    }
  },
  "cells": [
    {
      "cell_type": "markdown",
      "source": [
        "# Задача 2.3. KNN\n",
        "\n",
        "В этом задании Вам предлагается написать класс `KNN_classifier`, пригодный для решения задачи классификации (многоклассовой).\n",
        "\n",
        "Мы предлагаем Вам шаблон класса. В этом шаблоне заполните тела функций `.fit` и `.predict`\n",
        "\n",
        "В качестве функции близости используйте Евклидово расстояние между объектами (подробнее https://numpy.org/doc/stable/reference/generated/numpy.linalg.norm.html).\n",
        "\n",
        "Напоминание:\n",
        "\n",
        "* Функция `.fit(x, y)` производит обучение модели. В рамках этой функции необходимо реализовать подбор оптимальных параметров модели/сконфигурировать модель для дальнейшего использования на основе данной тренировочной выборки, где x - это матрица признакового описания выборки, а y - вектор ответов.\n",
        "\n",
        "* Функция `.predict(x)` осуществляет предсказание для каждого из объектов, чьи векторные описания представлены строками матрицы x. Выполняется строго после `.fit()`. Ради безопасности можно даже реализовать механизм отказа в виде выбрасывания специальной ошибки `UnfittedError` в случае попытки вызова функции `.predict()` до вызова функции `.fit()`.\n",
        "\n",
        "Замечание: не изменяйте названия класса и его методов. Это приведёт к ошибке при исполнении Вашего кода в процессе проверки задания. Тем не менее, Вы можете дописать свои собственные методы, если это необходимо.\n",
        "\n",
        "Шаблон класса:"
      ],
      "metadata": {
        "id": "giMUSayPBOYo"
      }
    },
    {
      "cell_type": "code",
      "source": [
        "import numpy as np\n",
        "\n",
        "\n",
        "\n",
        "\n",
        "class KNN_classifier:\n",
        "  def __init__(self, n_neighbors: int, **kwargs):\n",
        "    self.K = n_neighbors\n",
        "\n",
        "  def fit(self, x: np.array, y: np.array):\n",
        "    self.x = x\n",
        "    self.y = y\n",
        "    pass\n",
        "\n",
        "  def predict(self, point: np.array):\n",
        "    self.point = point\n",
        "    rows, columns = self.point.shape\n",
        "    classes = int(max(g for g in self.y))\n",
        "    predictions = np.zeros(rows)\n",
        "    points = np.concatenate((self.x, np.array([self.y]).transpose()),axis=1).tolist()\n",
        "\n",
        "    for e in range (rows):\n",
        "      keyfunc = lambda P: np.linalg.norm(P-np.append(self.point[e],P[-1]))\n",
        "      sorted_points = sorted(points, key=keyfunc)\n",
        "      C = np.zeros(classes+1)\n",
        "      for p in sorted_points[:self.K]:\n",
        "            q = int(p[-1])\n",
        "            C[q] += 1\n",
        "\n",
        "      predictions[e]= int(np.argmax(C))\n",
        "\n",
        "    return predictions"
      ],
      "metadata": {
        "id": "lrYLUYPGBUeI"
      },
      "execution_count": null,
      "outputs": []
    },
    {
      "cell_type": "code",
      "source": [
        "import sklearn\n",
        "from sklearn.neighbors import KNeighborsClassifier\n",
        "from sklearn.datasets import load_wine\n",
        "from sklearn.model_selection import train_test_split\n",
        "\n",
        "X,y = load_wine(return_X_y=True)\n",
        "X_train, x_test, y_train, y_test = train_test_split(X, y, test_size=0.25)\n",
        "i = KNN_classifier(6)\n",
        "\"\"\"\n",
        "x = np.random.randint(-10,10, size= (20,4))\n",
        "y = np.random.randint(0, 5, size= (20,1))\n",
        "point = np.array([1,4, 2,6, 10,22, 44, 0, 1, 1, 1, 1, 1, 1, 3, 13]).reshape(-1,4)\n",
        "\"\"\"\n",
        "i.fit(X_train,y_train)\n",
        "r = i.predict(x_test)\n",
        "print(r)\n",
        "\n",
        "\n",
        "o = KNeighborsClassifier(n_neighbors=6,p=2)\n",
        "o.fit(X_train,y_train)\n",
        "f = o.predict(x_test)\n",
        "print(f)\n"
      ],
      "metadata": {
        "colab": {
          "base_uri": "https://localhost:8080/"
        },
        "id": "uCeYVYZIQMuz",
        "outputId": "fb490201-10cf-4b83-8805-20707edde77c"
      },
      "execution_count": null,
      "outputs": [
        {
          "output_type": "stream",
          "name": "stdout",
          "text": [
            "[0. 1. 0. 1. 0. 2. 1. 1. 0. 0. 1. 1. 1. 0. 1. 1. 1. 0. 1. 1. 0. 2. 1. 0.\n",
            " 1. 1. 1. 0. 2. 2. 1. 0. 2. 1. 1. 1. 1. 0. 1. 2. 1. 0. 2. 0. 1.]\n",
            "[0 1 0 1 0 2 1 1 0 0 1 1 1 0 1 1 1 0 1 1 0 2 1 0 1 1 1 0 2 2 1 0 2 1 1 1 1\n",
            " 0 1 2 1 0 2 0 1]\n"
          ]
        }
      ]
    },
    {
      "cell_type": "code",
      "source": [
        "X,y = load_wine(return_X_y=True)\n",
        "X = np.array(X)\n",
        "y = np.transpose(y)\n",
        "print(X.shape)\n",
        "print(y.shape)\n",
        "print(np.concatenate((X,y),axis=1))"
      ],
      "metadata": {
        "colab": {
          "base_uri": "https://localhost:8080/",
          "height": 266
        },
        "id": "JtLbl5VKvQEJ",
        "outputId": "bb6a59d0-9b77-4727-acf7-c462e842907e"
      },
      "execution_count": null,
      "outputs": [
        {
          "output_type": "stream",
          "name": "stdout",
          "text": [
            "(178, 13)\n",
            "(178,)\n"
          ]
        },
        {
          "output_type": "error",
          "ename": "ValueError",
          "evalue": "ignored",
          "traceback": [
            "\u001b[0;31m---------------------------------------------------------------------------\u001b[0m",
            "\u001b[0;31mValueError\u001b[0m                                Traceback (most recent call last)",
            "\u001b[0;32m<ipython-input-158-da5afe1172de>\u001b[0m in \u001b[0;36m<module>\u001b[0;34m\u001b[0m\n\u001b[1;32m      4\u001b[0m \u001b[0mprint\u001b[0m\u001b[0;34m(\u001b[0m\u001b[0mX\u001b[0m\u001b[0;34m.\u001b[0m\u001b[0mshape\u001b[0m\u001b[0;34m)\u001b[0m\u001b[0;34m\u001b[0m\u001b[0;34m\u001b[0m\u001b[0m\n\u001b[1;32m      5\u001b[0m \u001b[0mprint\u001b[0m\u001b[0;34m(\u001b[0m\u001b[0my\u001b[0m\u001b[0;34m.\u001b[0m\u001b[0mshape\u001b[0m\u001b[0;34m)\u001b[0m\u001b[0;34m\u001b[0m\u001b[0;34m\u001b[0m\u001b[0m\n\u001b[0;32m----> 6\u001b[0;31m \u001b[0mprint\u001b[0m\u001b[0;34m(\u001b[0m\u001b[0mnp\u001b[0m\u001b[0;34m.\u001b[0m\u001b[0mconcatenate\u001b[0m\u001b[0;34m(\u001b[0m\u001b[0;34m(\u001b[0m\u001b[0mX\u001b[0m\u001b[0;34m,\u001b[0m\u001b[0my\u001b[0m\u001b[0;34m)\u001b[0m\u001b[0;34m,\u001b[0m\u001b[0maxis\u001b[0m\u001b[0;34m=\u001b[0m\u001b[0;36m1\u001b[0m\u001b[0;34m)\u001b[0m\u001b[0;34m)\u001b[0m\u001b[0;34m\u001b[0m\u001b[0;34m\u001b[0m\u001b[0m\n\u001b[0m",
            "\u001b[0;32m<__array_function__ internals>\u001b[0m in \u001b[0;36mconcatenate\u001b[0;34m(*args, **kwargs)\u001b[0m\n",
            "\u001b[0;31mValueError\u001b[0m: all the input arrays must have same number of dimensions, but the array at index 0 has 2 dimension(s) and the array at index 1 has 1 dimension(s)"
          ]
        }
      ]
    },
    {
      "cell_type": "code",
      "source": [
        "import numpy as np\n",
        "\n",
        "def euc_d(point_1_x, point_1_y, point_2_x, point_2_y):\n",
        "  x_diff = point_1_x-point_2_x\n",
        "  y_diff = point_1_y-point_2_y\n",
        "  return np.sqrt(x_diff**2 + y_diff**2)\n",
        "k = 10\n",
        "point = np.array ([5, 5])\n",
        "\n",
        "X = np.random.randint(-10,10, size= (20,2))\n",
        "w = np.random.randint(0, 5, size= (20,1))\n",
        "points = np.concatenate((X,w),axis=1).tolist()\n",
        "\n",
        "keyfunc = lambda P: euc_d(P[0], P[1], point[0], point[1])\n",
        "s_points = sorted(points, key=keyfunc)\n",
        "print(s_points)\n",
        "C = np.zeros(int(max(g[2] for g in s_points))+1)\n",
        "print(C)\n",
        "\n",
        "for p in s_points[:k]:\n",
        "  q = int(p[2])\n",
        "  C[q] += 1\n",
        "\n",
        "\n",
        "print (C)\n",
        "d = np.argmax(C)\n",
        "print(f'Точка принадлежит {d} классу')\n"
      ],
      "metadata": {
        "id": "br27fT97OPux",
        "outputId": "2c435727-6183-4b9f-b5a1-ba0a3141330d",
        "colab": {
          "base_uri": "https://localhost:8080/"
        }
      },
      "execution_count": null,
      "outputs": [
        {
          "output_type": "stream",
          "name": "stdout",
          "text": [
            "[[3, 6, 1], [5, 8, 0], [7, 2, 0], [1, 6, 0], [8, 2, 1], [1, 0, 2], [4, -3, 2], [9, -2, 2], [-3, 8, 3], [6, -4, 4], [6, -5, 4], [-5, 0, 3], [-6, 7, 4], [-6, 2, 1], [-4, -3, 0], [7, -7, 1], [-3, -7, 2], [-7, -5, 2], [-4, -8, 3], [-10, -1, 0]]\n",
            "[0. 0. 0. 0. 0.]\n",
            "[3. 2. 3. 1. 1.]\n",
            "Точка принадлежит 0 классу\n"
          ]
        }
      ]
    },
    {
      "cell_type": "code",
      "source": [
        "point = np.array([1,4, 2,6, 10,22, 1,7, 2, 3, 2, 1]).reshape(-1,4)\n",
        "x = np.random.randint(-10,10, size= (20,4))\n",
        "y = np.random.randint(0, 5, size= (20,1))\n",
        "K = 6\n",
        "classes = int(max(g for g in y))\n",
        "\n",
        "rows, columns = point.shape\n",
        "points = np.concatenate((x, y),axis=1).tolist()\n",
        "\n",
        "for e in range (rows):\n",
        "  keyfunc = lambda P: np.linalg.norm(P-np.append(point[e], P[-1]))\n",
        "\n",
        "  sorted_points = sorted(points, key=keyfunc)\n",
        "  C = np.zeros(classes+1)\n",
        "  for p in sorted_points[:K]:\n",
        "        q = int(p[-1])\n",
        "        C[q] += 1\n",
        "\n",
        "  d = np.argmax(C)\n",
        "  print(f'Точка принадлежит {d} классу')\n",
        "\n",
        "\n"
      ],
      "metadata": {
        "colab": {
          "base_uri": "https://localhost:8080/"
        },
        "id": "nZopTjKWqvrx",
        "outputId": "4edb4ed9-2a5f-41e6-8875-8d1b5ad6f908"
      },
      "execution_count": null,
      "outputs": [
        {
          "output_type": "stream",
          "name": "stdout",
          "text": [
            "Точка принадлежит 4 классу\n",
            "Точка принадлежит 4 классу\n",
            "Точка принадлежит 4 классу\n"
          ]
        }
      ]
    },
    {
      "cell_type": "code",
      "source": [
        "rows = 3\n",
        "point = np.array([1,2, 3,4, 1,1]).reshape(-1,2)\n",
        "print(point[1])\n",
        "for e in range (rows):\n",
        "  a= np.append (point[e], e)\n",
        "  print(a)"
      ],
      "metadata": {
        "colab": {
          "base_uri": "https://localhost:8080/"
        },
        "id": "ME5uniAimGd-",
        "outputId": "e9bae172-6918-449a-f001-fefff9cb4999"
      },
      "execution_count": null,
      "outputs": [
        {
          "output_type": "stream",
          "name": "stdout",
          "text": [
            "[3 4]\n",
            "[1 2 0]\n",
            "[3 4 1]\n",
            "[1 1 2]\n"
          ]
        }
      ]
    },
    {
      "cell_type": "markdown",
      "source": [
        "## Примечания\n",
        "\n",
        "Вы можете проверить правильность выполнения задания посредством сравнения полученных результатов с функцией из соответствующего модуля `sklearn`.\n",
        "\n",
        "Замечание: в рамках выполнения данного задания запрещено использовать функции из пакета `sklearn` и любого другого, кроме `numpy`. Код, использующий любые другие модули не пройдёт тесты."
      ],
      "metadata": {
        "id": "z3o6dV1XBX6d"
      }
    },
    {
      "cell_type": "code",
      "source": [],
      "metadata": {
        "id": "fRp5zgNrBbwq"
      },
      "execution_count": null,
      "outputs": []
    }
  ]
}