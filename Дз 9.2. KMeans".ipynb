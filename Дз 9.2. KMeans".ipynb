{
  "nbformat": 4,
  "nbformat_minor": 0,
  "metadata": {
    "colab": {
      "provenance": []
    },
    "kernelspec": {
      "name": "python3",
      "display_name": "Python 3"
    },
    "language_info": {
      "name": "python"
    }
  },
  "cells": [
    {
      "cell_type": "markdown",
      "source": [
        "# 9.2. Алгоритм KMeans\n",
        "\n",
        "На лекции вам была предложена реализация k-means \"руками\", без применения библиотечных реализаций. Но эта реализация была предложена исключительно для двумерных векторов. Ваша задача - написать класс `KMeans`, в рамках которого должны быть реализованы следующие функции:\n",
        "\n",
        "* `.fit(X, n_clusters)` - функция вычисления оптимальных центров кластеров, соответствующих логике алгоритма KMeans\n",
        "* `.predict(X)` - функция кластеризации объектов из выборки `X`\n",
        "\n",
        "Конструктор класса `KMeans` должен принимать 2 аргумента:\n",
        "* `K` - количество кластеров\n",
        "* `init` - аргумент, принимающий массив размерности $K × M$, где $M$ - размерность векторов признаковых описаний объектов, а $K$ - число кластеров, содержащий координаты исходным приближений центров кластеров\n",
        "\n",
        "Алгоритм не должен содержать элементов готовых решений из любых библиотек, пользоваться можно только библиотеками `numpy` и `collections`. В качестве метрики используйте обычное [евклидово расстояние](https://colab.research.google.com/drive/1BODfwl4F3c7h0CE-t88zavkZWyNe8n5G#scrollTo=9M9zA6jeFDfb).\n",
        "\n",
        "В качестве критерия останова алгоритма можно использовать следующее утверждение: *алгоритм кластеризации сходится (останавливается), когда изменение центров кластеров на очередной итерации алгоритма незначительно. Т.е. **все попарные расстояния между обновлёнными и предшествующими значениями центров кластеров на очередной итерации не превосходят некоторого маленького числа (в нашем случае рассмотрим 0.001)**.*\n",
        "\n",
        "В математических терминах это можно записать так. Пусть $\\vec{C^i_1}, \\vec{C^i_2}, ... \\vec{C^i_K}$ - центры кластеров, полученные на итерации алгоритма с номером $i$, а $\\vec{C^{i-1}_1}, \\vec{C^{i-1}_2}, ... \\vec{C^{i-1}_K}$ - центры кластеров, полученные на предыдущей итерации с номером $i-1$. Тогда алгоритм кластеризации завершится после итерации i, если:\n",
        "\n",
        "$$max\\left(||\\vec{C^i_1}-\\vec{C^{i-1}_1}||, ||\\vec{C^i_2}-\\vec{C^{i-1}_2}||, ... ||\\vec{C^i_K}-\\vec{C^{i-1}_K}||\\right)\\leq0.001$$"
      ],
      "metadata": {
        "id": "pkwdWo4-4VkK"
      }
    },
    {
      "cell_type": "markdown",
      "source": [
        "Шаблон класса:"
      ],
      "metadata": {
        "id": "FN81dDcO4lcO"
      }
    },
    {
      "cell_type": "code",
      "source": [
        "import numpy as np\n",
        "\n",
        "class KMeans(object):\n",
        "  def __init__(self, K, init):\n",
        "    self.K = K\n",
        "    self.init = init\n",
        "\n",
        "  def fit(self, X):\n",
        "    KK = self.init\n",
        "    KKl = np.zeros_like(KK)\n",
        "    if max(np.linalg.norm(KKl[i]-KK[i]) for i in range (KK.shape[0])) > 0.001:\n",
        "      KKl = KK\n",
        "      c = np.zeros(X.shape[0])\n",
        "      r = np.zeros(KK.shape[0])\n",
        "      for i in range(X.shape[0]): #пробегаем по точкам из набора Х\n",
        "        r = np.zeros(KK.shape[0])\n",
        "        for j in range (KK.shape[0]): #пробегаем по центрам кластеров\n",
        "          r[j] = np.linalg.norm(KK[j] - X[i])\n",
        "        c[i] = np.argmin(r) #определяем кластер для точки\n",
        "      for i in range (self.K): #пробегаем по центрам кластеров\n",
        "        cl = []\n",
        "        for j in range (c.shape[0]): #пробегаем по значениям кластеров для точек\n",
        "          if c[j] == i:\n",
        "            cl.append(X[j]) #собираем точки в одном кластере\n",
        "        KK[i] = np.mean(cl) #считаем центр нового кластера\n",
        "    self.KK=KK\n",
        "    pass\n",
        "\n",
        "  def predict(self, X):\n",
        "    c = np.zeros(X.shape[0])\n",
        "    for i in range(X.shape[0]): #пробегаем по точкам из набора Х\n",
        "        r = np.zeros(self.KK.shape[0])\n",
        "        for j in range (self.KK.shape[0]): #пробегаем по центрам кластеров\n",
        "          r[j] = np.linalg.norm(self.KK[j] - X[i])\n",
        "        c[i] = np.argmin(r) #определяем кластер для точки\n",
        "    s= np.concatenate((X,c.reshape(-1,1)), axis=1)\n",
        "    return s"
      ],
      "metadata": {
        "id": "PGW711H54ZLd"
      },
      "execution_count": null,
      "outputs": []
    },
    {
      "cell_type": "markdown",
      "source": [
        "## Пример входных данных\n",
        "\n",
        "В данном случае имеется в виду только формат данных. Гарантируется, что в данных будут выделенные кластеры."
      ],
      "metadata": {
        "id": "2n8-YzWfrjmA"
      }
    },
    {
      "cell_type": "code",
      "source": [
        "import numpy as np\n",
        "import pandas as pd\n",
        "import matplotlib.pyplot as plt\n",
        "colors_clusters = ['g', 'b', 'r', '#ff8243']\n",
        "\n",
        "W3=pd.read_csv(\"4.csv\", index_col=None)\n",
        "O2=W3.drop(W3.columns[2], axis=1)\n",
        "o2=O2.to_numpy()\n",
        "\"\"\"\n",
        "init = np.array([[0,40],[40,0],[100,40],[60,70]])\n",
        "\n",
        "a = KMeans(3,init)\n",
        "a.fit(o2)\n",
        "s=a.predict(o2)\n",
        "for i in range (o2.shape[0]):\n",
        "  plt.scatter(o2[i][0], o2[i][1], c=colors_clusters[int(s[i][2])])\n",
        "  \"\"\"\n",
        "print(O2)"
      ],
      "metadata": {
        "colab": {
          "base_uri": "https://localhost:8080/"
        },
        "id": "rE5e-2O1rjAw",
        "outputId": "783141c5-cd86-4360-df63-e582e85378ea"
      },
      "execution_count": null,
      "outputs": [
        {
          "output_type": "stream",
          "name": "stdout",
          "text": [
            "     Unnamed: 0         y  class\n",
            "0             0 -1.479760      0\n",
            "1             1 -0.157614      0\n",
            "2             2 -1.338230      0\n",
            "3             3 -0.335942      0\n",
            "4             4  0.756735      0\n",
            "..          ...       ...    ...\n",
            "871         871 -7.142230      1\n",
            "872         872 -7.325990      1\n",
            "873         873 -7.471830      1\n",
            "874         874 -7.362970      1\n",
            "875         875 -7.153290      1\n",
            "\n",
            "[876 rows x 3 columns]\n"
          ]
        }
      ]
    },
    {
      "cell_type": "code",
      "source": [
        "X = np.array([0, 2, 1,5,5,5,5])\n",
        "print(X.shape[0], type(X.shape[0]))\n"
      ],
      "metadata": {
        "colab": {
          "base_uri": "https://localhost:8080/"
        },
        "id": "uOXuSNJQnW2_",
        "outputId": "8d609241-6599-4a16-da03-b2a385b05e1a"
      },
      "execution_count": null,
      "outputs": [
        {
          "output_type": "stream",
          "name": "stdout",
          "text": [
            "7 <class 'int'>\n"
          ]
        }
      ]
    },
    {
      "cell_type": "code",
      "source": [
        "import numpy as np\n",
        "a=np.arange(5)\n",
        "b=np.arange(5*4).reshape(4,5)\n",
        "\n",
        "c=np.zeros((4,5))\n",
        "for i in range(b.shape[0]):\n",
        "  c[i]=np.linalg.norm(b[i] - a)\n",
        "print(a)\n",
        "\n",
        "print(b)\n",
        "print(c)"
      ],
      "metadata": {
        "id": "H6E5tqAss_jo",
        "colab": {
          "base_uri": "https://localhost:8080/"
        },
        "outputId": "8b2a3793-bac9-4655-afb6-d50a61ebbf53"
      },
      "execution_count": null,
      "outputs": [
        {
          "output_type": "stream",
          "name": "stdout",
          "text": [
            "[0 1 2 3 4]\n",
            "[[ 0  1  2  3  4]\n",
            " [ 5  6  7  8  9]\n",
            " [10 11 12 13 14]\n",
            " [15 16 17 18 19]]\n",
            "[[ 0.          0.          0.          0.          0.        ]\n",
            " [11.18033989 11.18033989 11.18033989 11.18033989 11.18033989]\n",
            " [22.36067977 22.36067977 22.36067977 22.36067977 22.36067977]\n",
            " [33.54101966 33.54101966 33.54101966 33.54101966 33.54101966]]\n"
          ]
        }
      ]
    },
    {
      "cell_type": "code",
      "source": [],
      "metadata": {
        "id": "VUSS81oblRwo"
      },
      "execution_count": null,
      "outputs": []
    }
  ]
}