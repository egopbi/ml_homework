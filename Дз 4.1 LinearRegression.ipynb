{
  "nbformat": 4,
  "nbformat_minor": 0,
  "metadata": {
    "colab": {
      "provenance": []
    },
    "kernelspec": {
      "name": "python3",
      "display_name": "Python 3"
    },
    "language_info": {
      "name": "python"
    }
  },
  "cells": [
    {
      "cell_type": "markdown",
      "source": [
        "# 4.1 Линейная регрессия\n",
        "\n",
        "Вам предложен шаблон класса LinearRegression. Реализуйте методы  .fit() и .predict() соответствующие изложенной выше модели. В рамках выполнения этого задания можно пользоваться только библиотекой numpy. Использование любых других библиотек приведёт к ошибке при проверке задания автоматизированной системой. Также мы просим Вас не менять название класса и обозначенных методов, это также приведёт к ошибке. Добавлять свои методы в класс можно.\n",
        "\n",
        "Полученные коэффициенты модели должны храниться в поле .coef_\n",
        "\n",
        "\n",
        "Шаблон класса LinearRegression приведён ниже. Заполните все необходимые пропуски и отправьте получившийся файл в яндекс.контест. Не забудьте про все необходимые импорты."
      ],
      "metadata": {
        "id": "lEUdoNRoPVtP"
      }
    },
    {
      "cell_type": "code",
      "source": [
        "import numpy as np\n",
        "from numpy import linalg as la\n",
        "class LinearRegression:\n",
        "  def __init__(self):\n",
        "    self.coef_ = None\n",
        "    pass\n",
        "\n",
        "  def fit(self, x: np.array, y: np.array):\n",
        "    row, column = np.shape(x)\n",
        "    one = np.ones((row,1))\n",
        "    xq = np.hstack((x, one))\n",
        "    x_t = np.transpose(xq)\n",
        "    xa = np.matmul(x_t, xq)\n",
        "    xa_inv = la.inv(xa)\n",
        "    xab = np.matmul(xa_inv, x_t)\n",
        "    self.coef_ = np.matmul(xab, y)\n",
        "    pass\n",
        "\n",
        "  def predict(self, x: np.array):\n",
        "    row, column = np.shape(x)\n",
        "    one = np.ones((row,1))\n",
        "    xw = np.hstack((x, one))\n",
        "    y_pr = np.matmul (self.coef_, np.transpose(xw)).reshape(-1,1)\n",
        "    return y_pr\n",
        "  def prin(self):\n",
        "    print(self.coef_)"
      ],
      "metadata": {
        "id": "dU3HOMJgPqBr"
      },
      "execution_count": 5,
      "outputs": []
    },
    {
      "cell_type": "code",
      "source": [
        "x = np.array([[5,5], [7,7], [9,9], [11,11], [13.5, 13]])\n",
        "y = np.array([10, 14, 18, 22, 25])\n",
        "a = LinearRegression()\n",
        "a.fit(x,y)\n",
        "a.predict(x)\n",
        "a.prin()"
      ],
      "metadata": {
        "id": "LkzyUig9On7g",
        "colab": {
          "base_uri": "https://localhost:8080/"
        },
        "outputId": "1c967d18-347d-4809-ee9d-88834e2a3e88"
      },
      "execution_count": 6,
      "outputs": [
        {
          "output_type": "stream",
          "name": "stdout",
          "text": [
            "[-2.00000000e+00  4.00000000e+00  2.79776202e-14]\n"
          ]
        }
      ]
    },
    {
      "cell_type": "code",
      "source": [
        "import numpy as np\n",
        "def r2(y_true, y_pred):\n",
        "  De = 0\n",
        "  Dz = 0\n",
        "  num = y_true.size\n",
        "  for i in range (num):\n",
        "    De += (y_true[i] - y_pred[i])**2\n",
        "    Dz += (y_true[i] - np.mean(y_true))**2\n",
        "  a = 1-De/Dz\n",
        "  return a\n",
        "\n",
        "y_t = np.array([1,2,5,8,13,22,2])\n",
        "y_p = np.array([1,3,3,8,13,23,4])\n",
        "y = r2(y_t, y_p)\n",
        "print(y)"
      ],
      "metadata": {
        "colab": {
          "base_uri": "https://localhost:8080/"
        },
        "id": "xUYAVyN5O4ea",
        "outputId": "c22d7f1f-ea97-43d9-eda7-1cdcc04784e7"
      },
      "execution_count": 7,
      "outputs": [
        {
          "output_type": "stream",
          "name": "stdout",
          "text": [
            "0.9714052287581699\n"
          ]
        }
      ]
    },
    {
      "cell_type": "code",
      "source": [
        "import numpy as np\n",
        "y_t = np.array([1,2,5,8,13,22,2])\n",
        "y_p = np.array([1,3,3,8,13,23,4])\n",
        "num = y_t.size\n",
        "print (num)\n",
        "for i in range (num):\n",
        "  print(y_t[i], y_p[i], sep='--')"
      ],
      "metadata": {
        "colab": {
          "base_uri": "https://localhost:8080/"
        },
        "id": "BLx0iM7_PqOq",
        "outputId": "3f329eaa-ed89-4b3a-edbe-ec6fb3e4c4c2"
      },
      "execution_count": 8,
      "outputs": [
        {
          "output_type": "stream",
          "name": "stdout",
          "text": [
            "7\n",
            "1--1\n",
            "2--3\n",
            "5--3\n",
            "8--8\n",
            "13--13\n",
            "22--23\n",
            "2--4\n"
          ]
        }
      ]
    },
    {
      "cell_type": "code",
      "source": [
        "import numpy as np\n",
        "from sklearn.metrics import r2_score\n",
        "\n",
        "fn1 = '/1.npy'\n",
        "fn2 = '/2.npy'\n",
        "fn3 = '/3.npy'\n",
        "fn4 = '/4.npy'\n",
        "fn5 = '/5.npy'\n",
        "\n",
        "f1 = np.load(fn1)\n",
        "f2 = np.load(fn2)\n",
        "f3 = np.load(fn3)\n",
        "f4 = np.load(fn4)\n",
        "f5 = np.load(fn5)\n",
        "\n",
        "LR1 = LinearRegression().fit(np.array(f1[:,0]).reshape(-1,1), np.array(f1[:,1]).reshape(-1,1))\n",
        "LR2 = LinearRegression().fit(np.array(f2[:,0]).reshape(-1,1), np.array(f2[:,1]).reshape(-1,1))\n",
        "LR3 = LinearRegression().fit(np.array(f3[:,0]).reshape(-1,1), np.array(f3[:,1]).reshape(-1,1))\n",
        "LR4 = LinearRegression().fit(np.array(f4[:,0]).reshape(-1,1), np.array(f4[:,1]).reshape(-1,1))\n",
        "LR5 = LinearRegression().fit(np.array(f5[:,0]).reshape(-1,1), np.array(f5[:,1]).reshape(-1,1))\n",
        "\n",
        "y1 = LR1.predict(np.array(f1[:,0]).reshape(-1,1))\n",
        "r1 = r2_score(np.array(f1[:,1]).reshape(-1,1), y1)\n",
        "y2 = LR2.predict(np.array(f2[:,0]).reshape(-1,1))\n",
        "r2 = r2_score(np.array(f2[:,1]).reshape(-1,1), y2)\n",
        "y3 = LR3.predict(np.array(f3[:,0]).reshape(-1,1))\n",
        "r3 = r2_score(np.array(f3[:,1]).reshape(-1,1), y3)\n",
        "y4 = LR4.predict(np.array(f4[:,0]).reshape(-1,1))\n",
        "r4 = r2_score(np.array(f4[:,1]).reshape(-1,1), y4)\n",
        "y5 = LR5.predict(np.array(f5[:,0]).reshape(-1,1))\n",
        "r5 = r2_score(np.array(f5[:,1]).reshape(-1,1), y5)\n",
        "print(r1)\n",
        "print(r2)\n",
        "print(r3)\n",
        "print(r4)\n",
        "print(r5)"
      ],
      "metadata": {
        "colab": {
          "base_uri": "https://localhost:8080/"
        },
        "id": "dq0vgwBOU7-W",
        "outputId": "e375a439-8f0f-4dce-d165-200bb75ad1ea"
      },
      "execution_count": null,
      "outputs": [
        {
          "output_type": "stream",
          "name": "stdout",
          "text": [
            "0.8804493891389981\n",
            "0.6049683606213805\n",
            "0.9436398449037311\n",
            "0.18606626924708636\n",
            "0.848322909283604\n"
          ]
        }
      ]
    }
  ]
}